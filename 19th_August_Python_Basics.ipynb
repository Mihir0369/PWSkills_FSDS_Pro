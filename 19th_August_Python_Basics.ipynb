{
 "cells": [
  {
   "cell_type": "markdown",
   "id": "eb4a5002-fbae-49b7-af64-4d783f4099f9",
   "metadata": {},
   "source": [
    "<h2>\n",
    "TOPIC: Python Basics Variable"
   ]
  },
  {
   "cell_type": "markdown",
   "id": "bb1d8add-6419-4f62-ae72-4e5a1f4c0401",
   "metadata": {},
   "source": [
    "<h5>\n",
    "1. Declare two variables, `x` and `y`, and assign them integer values. Swap the\n",
    "values of these variables without using any temporary variable."
   ]
  },
  {
   "cell_type": "code",
   "execution_count": 2,
   "id": "ee1153f2-4877-42f5-baf4-dd7789a13ac2",
   "metadata": {},
   "outputs": [
    {
     "name": "stdout",
     "output_type": "stream",
     "text": [
      "Before swapping value of x was 10 and y was 20\n",
      "After swapping value of x is 20 and y is 10\n"
     ]
    }
   ],
   "source": [
    "x = 10\n",
    "y = 20\n",
    "\n",
    "print(f\"Before swapping value of x was {x} and y was {y}\")\n",
    "x,y = y,x # this is the swapping of the values of the variables without using any othe variable\n",
    "print(f\"After swapping value of x is {x} and y is {y}\")"
   ]
  },
  {
   "cell_type": "markdown",
   "id": "3d08c1b5-ba80-4390-9eab-7b6c5eb18e12",
   "metadata": {},
   "source": [
    "<h5>\n",
    "2. Create a program that calculates the area of a rectangle. Take the length and\n",
    "width as inputs from the user and store them in variables. Calculate and\n",
    "display the area."
   ]
  },
  {
   "cell_type": "markdown",
   "id": "6b1abb13-f487-49d8-b57f-7da23fca7de2",
   "metadata": {},
   "source": [
    "<h5>\n",
    "\n",
    "Formula to find the area of rectangle is:\n",
    "\n",
    "    Area = length * width"
   ]
  },
  {
   "cell_type": "code",
   "execution_count": 3,
   "id": "931e3053-d968-4f2c-b7e3-af05da5c0dae",
   "metadata": {},
   "outputs": [
    {
     "name": "stdin",
     "output_type": "stream",
     "text": [
      "Please enter the lenth of the rectangle: 10\n",
      "Please enter the width of the rectangle: 20\n"
     ]
    },
    {
     "name": "stdout",
     "output_type": "stream",
     "text": [
      "With the length 10.0 and width 20.0, the area of the rectangle is 200.0\n"
     ]
    }
   ],
   "source": [
    "length = float(input(\"Please enter the lenth of the rectangle:\")) #this will ask the user about the length of the rectangle and convert it into the float \n",
    "width = float(input(\"Please enter the width of the rectangle:\")) #this will ask the user about the width of the rectangle and convert it into the float\n",
    "\n",
    "area = length * width #formula to find the area of the rectangle\n",
    "\n",
    "print(f\"With the length {length} and width {width}, the area of the rectangle is {area}\")"
   ]
  },
  {
   "cell_type": "markdown",
   "id": "82db1daa-00d4-4889-897b-891b48097013",
   "metadata": {},
   "source": [
    "<h5>\n",
    "3. Write a Python program that converts temperatures from Celsius to\n",
    "Fahrenheit. Take the temperature in Celsius as input, store it in a variable,\n",
    "convert it to Fahrenheit, and display the result."
   ]
  },
  {
   "cell_type": "markdown",
   "id": "6ccbe1ba-b9d1-43e8-8b02-48168b8ff557",
   "metadata": {},
   "source": [
    "<h5>\n",
    "Formula to convert temp. from Celcius to Farenheit is:\n",
    "\n",
    "Fahrenheit = (C × 9/5) + 32 "
   ]
  },
  {
   "cell_type": "code",
   "execution_count": 5,
   "id": "f54e13d9-ddb0-4632-bb0f-44c8fa6664c4",
   "metadata": {},
   "outputs": [
    {
     "name": "stdin",
     "output_type": "stream",
     "text": [
      "Please enter temperature in celsius: 0\n"
     ]
    },
    {
     "name": "stdout",
     "output_type": "stream",
     "text": [
      "Conversion of 0.0 Celsius is: 32.0 Farenheit\n"
     ]
    }
   ],
   "source": [
    "Celsius = float(input(\"Please enter temperature in celsius:\")) #this will ask the user about the temp. in celsius and convert it into the float \n",
    "\n",
    "Farenheit = (Celsius * (9/5)) + 32 #Formula to convert temp. from Celcius to Farenheit\n",
    "\n",
    "print(f\"Conversion of {Celsius} Celsius is: {Farenheit} Farenheit\")"
   ]
  },
  {
   "cell_type": "markdown",
   "id": "110ffa1f-429b-4bb1-8859-50e6b24afd2d",
   "metadata": {},
   "source": [
    "<h2>\n",
    "TOPIC: String Based Questions"
   ]
  },
  {
   "cell_type": "markdown",
   "id": "3017bd89-9c5b-4bc5-811e-fc6452a55536",
   "metadata": {},
   "source": [
    "<h5>\n",
    "1. Write a Python program that takes a string as input and prints the length of\n",
    "the string."
   ]
  },
  {
   "cell_type": "code",
   "execution_count": 6,
   "id": "48a26e0b-abec-4be8-80e7-f2d59144f60b",
   "metadata": {},
   "outputs": [
    {
     "name": "stdin",
     "output_type": "stream",
     "text": [
      "Please enter any string: hello\n"
     ]
    },
    {
     "name": "stdout",
     "output_type": "stream",
     "text": [
      "Length of the hello is: 5\n"
     ]
    }
   ],
   "source": [
    "string = input(\"Please enter any string:\") #Asking the user to enter any string\n",
    "\n",
    "'''\n",
    "I will use len() function to find the length of the string\n",
    "'''\n",
    "\n",
    "print(f\"Length of the {string} is: {len(string)}\")"
   ]
  },
  {
   "cell_type": "markdown",
   "id": "79a8fa18-d5cf-40f0-a9ca-647322a1bc7b",
   "metadata": {},
   "source": [
    "<h5>\n",
    "2. Create a program that takes a sentence from the user and counts the number\n",
    "of vowels (a, e, i, o, u) in the string."
   ]
  },
  {
   "cell_type": "code",
   "execution_count": 14,
   "id": "5cdcb5da-703c-4415-8b21-2e9f6aae2af9",
   "metadata": {},
   "outputs": [
    {
     "name": "stdin",
     "output_type": "stream",
     "text": [
      "Please enter any sentence: hello world\n"
     ]
    },
    {
     "name": "stdout",
     "output_type": "stream",
     "text": [
      "There are 3 vowels in the given sentence and that vowels are ['e', 'o', 'o']\n"
     ]
    }
   ],
   "source": [
    "sentence = input(\"Please enter any sentence:\") #Asking the user to enter any sentence\n",
    "\n",
    "count_vowels = 0 #temporary variable to count the number of vowels\n",
    "vowels = 'aeiou' #variable with vowels to compare each character in sentence\n",
    "vowels_in_sentence = [] #an empty list to store all the vowels which are in sentence\n",
    "\n",
    "for i in sentence.lower(): #running a for loop for each character in sentence after making each character in lower case\n",
    "    if i in vowels: #checking whether it is a vowel or not\n",
    "        count_vowels+=1 #if the character is a vowel, it will increase the count by 1\n",
    "        vowels_in_sentence.append(i) #it will append the vowel character in the list\n",
    "        \n",
    "print(\"There are {x} vowels in the given sentence and that vowels are {y}\".format(x=count_vowels, y=vowels_in_sentence))"
   ]
  },
  {
   "cell_type": "markdown",
   "id": "03143582-b513-4edc-8171-a427b0b96d64",
   "metadata": {},
   "source": [
    "<h5>\n",
    "3. Given a string, reverse the order of characters using string slicing and print\n",
    "the reversed string."
   ]
  },
  {
   "cell_type": "code",
   "execution_count": 22,
   "id": "ab04c344-9522-4631-9d08-8c8707343588",
   "metadata": {},
   "outputs": [
    {
     "name": "stdin",
     "output_type": "stream",
     "text": [
      "Enter any string: olo\n"
     ]
    },
    {
     "name": "stdout",
     "output_type": "stream",
     "text": [
      "The original string is olo and the reversed string is olo\n"
     ]
    }
   ],
   "source": [
    "string = input(\"Enter any string:\") #Asking the user to enter any string\n",
    "\n",
    "reverse = string[::-1] #it will reverse the string with the string slicing method\n",
    "print(f\"The original string is {string} and the reversed string is {reverse}\")"
   ]
  },
  {
   "cell_type": "markdown",
   "id": "c62855f5-6c90-4685-a9ef-c8bc1558cbf2",
   "metadata": {},
   "source": [
    "<h5>\n",
    "4. Write a program that takes a string as input and checks if it is a palindrome\n",
    "(reads the same forwards and backwards)."
   ]
  },
  {
   "cell_type": "code",
   "execution_count": 27,
   "id": "ad66881b-6134-4264-8103-90f028afd306",
   "metadata": {},
   "outputs": [
    {
     "name": "stdin",
     "output_type": "stream",
     "text": [
      "Enter any string: level\n"
     ]
    },
    {
     "name": "stdout",
     "output_type": "stream",
     "text": [
      "level is a palindrome string\n"
     ]
    }
   ],
   "source": [
    "string = input(\"Enter any string:\") #Asking the user to enter any string\n",
    "\n",
    "if string == string[::-1]: #to find whether it is palindrome or not, we need to check whether original string and reversed string are same or not\n",
    "    print(f\"{string} is a palindrome string\")\n",
    "else:\n",
    "    print(f\"{string} is not a palindrome string\")"
   ]
  },
  {
   "cell_type": "markdown",
   "id": "18406176-f56e-4b25-8778-a20c973eb73b",
   "metadata": {},
   "source": [
    "<h5>\n",
    "5. Create a program that takes a string as input and removes all the spaces from\n",
    "it. Print the modified string without spaces."
   ]
  },
  {
   "cell_type": "code",
   "execution_count": 31,
   "id": "57720454-d349-449a-a73e-f811bf9b6689",
   "metadata": {},
   "outputs": [
    {
     "name": "stdin",
     "output_type": "stream",
     "text": [
      "Enter any string:   hello  \n"
     ]
    },
    {
     "name": "stdout",
     "output_type": "stream",
     "text": [
      "Original string is   hello   and the string after removing spaces is hello\n"
     ]
    }
   ],
   "source": [
    "string = input(\"Enter any string:\") #Asking the user to enter any string\n",
    "\n",
    "print(f\"Original string is {string} and the string after removing spaces is {string.strip()}\") #strip() function is used to remove all the spaces from the string"
   ]
  },
  {
   "cell_type": "code",
   "execution_count": null,
   "id": "60303056-7225-4f67-a380-ab8011f2c324",
   "metadata": {},
   "outputs": [],
   "source": []
  }
 ],
 "metadata": {
  "kernelspec": {
   "display_name": "Python 3 (ipykernel)",
   "language": "python",
   "name": "python3"
  },
  "language_info": {
   "codemirror_mode": {
    "name": "ipython",
    "version": 3
   },
   "file_extension": ".py",
   "mimetype": "text/x-python",
   "name": "python",
   "nbconvert_exporter": "python",
   "pygments_lexer": "ipython3",
   "version": "3.10.8"
  }
 },
 "nbformat": 4,
 "nbformat_minor": 5
}
